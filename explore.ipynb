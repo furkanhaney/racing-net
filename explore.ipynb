{
 "cells": [
  {
   "cell_type": "code",
   "execution_count": 44,
   "metadata": {
    "ExecuteTime": {
     "end_time": "2023-06-30T00:52:58.882647300Z",
     "start_time": "2023-06-30T00:52:58.850821Z"
    }
   },
   "outputs": [],
   "source": [
    "import pandas as pd"
   ]
  },
  {
   "cell_type": "code",
   "execution_count": 47,
   "metadata": {
    "ExecuteTime": {
     "end_time": "2023-06-30T00:53:18.121602600Z",
     "start_time": "2023-06-30T00:53:15.957955800Z"
    }
   },
   "outputs": [
    {
     "data": {
      "text/plain": "                          frame_file   timestamp    in_race  position  lap  \\\n0     data/frames/frame_00_10440.jpg           348      0.0       5.0  NaN   \n1     data/frames/frame_00_10680.jpg           356      0.0       5.0  NaN   \n2     data/frames/frame_00_10920.jpg           364      0.0       5.0  NaN   \n3     data/frames/frame_00_11160.jpg           372      0.0       5.0  NaN   \n4     data/frames/frame_00_11400.jpg           380      0.0       5.0  NaN   \n...                              ...           ...      ...       ...  ...   \n4064  data/frames/frame_09_24595.jpg    418.753844      NaN       NaN  NaN   \n4065  data/frames/frame_09_24605.jpg    418.920467      NaN       NaN  NaN   \n4066  data/frames/frame_09_24609.jpg    418.987111      NaN       NaN  NaN   \n4067  data/frames/frame_09_24631.jpg    419.353667      NaN       NaN  NaN   \n4068  data/frames/frame_09_24647.jpg    419.620244      NaN       NaN  NaN   \n\n      speed gear  acceleration  acceleration.1  jerk  \n0       NaN  NaN           NaN             NaN   NaN  \n1       NaN  NaN           NaN             NaN   NaN  \n2       NaN  NaN           NaN             NaN   NaN  \n3       NaN  NaN           NaN             NaN   NaN  \n4       NaN  NaN           NaN             NaN   NaN  \n...     ...  ...           ...             ...   ...  \n4064    NaN    5           0.0             0.0   0.0  \n4065    NaN    5           0.0             0.0   0.0  \n4066    NaN    5           0.0             0.0   0.0  \n4067    NaN    5           0.0             0.0   0.0  \n4068    NaN    5           0.0             0.0   0.0  \n\n[4069 rows x 10 columns]",
      "text/html": "<div>\n<style scoped>\n    .dataframe tbody tr th:only-of-type {\n        vertical-align: middle;\n    }\n\n    .dataframe tbody tr th {\n        vertical-align: top;\n    }\n\n    .dataframe thead th {\n        text-align: right;\n    }\n</style>\n<table border=\"1\" class=\"dataframe\">\n  <thead>\n    <tr style=\"text-align: right;\">\n      <th></th>\n      <th>frame_file</th>\n      <th>timestamp</th>\n      <th>in_race</th>\n      <th>position</th>\n      <th>lap</th>\n      <th>speed</th>\n      <th>gear</th>\n      <th>acceleration</th>\n      <th>acceleration.1</th>\n      <th>jerk</th>\n    </tr>\n  </thead>\n  <tbody>\n    <tr>\n      <th>0</th>\n      <td>data/frames/frame_00_10440.jpg</td>\n      <td>348</td>\n      <td>0.0</td>\n      <td>5.0</td>\n      <td>NaN</td>\n      <td>NaN</td>\n      <td>NaN</td>\n      <td>NaN</td>\n      <td>NaN</td>\n      <td>NaN</td>\n    </tr>\n    <tr>\n      <th>1</th>\n      <td>data/frames/frame_00_10680.jpg</td>\n      <td>356</td>\n      <td>0.0</td>\n      <td>5.0</td>\n      <td>NaN</td>\n      <td>NaN</td>\n      <td>NaN</td>\n      <td>NaN</td>\n      <td>NaN</td>\n      <td>NaN</td>\n    </tr>\n    <tr>\n      <th>2</th>\n      <td>data/frames/frame_00_10920.jpg</td>\n      <td>364</td>\n      <td>0.0</td>\n      <td>5.0</td>\n      <td>NaN</td>\n      <td>NaN</td>\n      <td>NaN</td>\n      <td>NaN</td>\n      <td>NaN</td>\n      <td>NaN</td>\n    </tr>\n    <tr>\n      <th>3</th>\n      <td>data/frames/frame_00_11160.jpg</td>\n      <td>372</td>\n      <td>0.0</td>\n      <td>5.0</td>\n      <td>NaN</td>\n      <td>NaN</td>\n      <td>NaN</td>\n      <td>NaN</td>\n      <td>NaN</td>\n      <td>NaN</td>\n    </tr>\n    <tr>\n      <th>4</th>\n      <td>data/frames/frame_00_11400.jpg</td>\n      <td>380</td>\n      <td>0.0</td>\n      <td>5.0</td>\n      <td>NaN</td>\n      <td>NaN</td>\n      <td>NaN</td>\n      <td>NaN</td>\n      <td>NaN</td>\n      <td>NaN</td>\n    </tr>\n    <tr>\n      <th>...</th>\n      <td>...</td>\n      <td>...</td>\n      <td>...</td>\n      <td>...</td>\n      <td>...</td>\n      <td>...</td>\n      <td>...</td>\n      <td>...</td>\n      <td>...</td>\n      <td>...</td>\n    </tr>\n    <tr>\n      <th>4064</th>\n      <td>data/frames/frame_09_24595.jpg</td>\n      <td>418.753844</td>\n      <td>NaN</td>\n      <td>NaN</td>\n      <td>NaN</td>\n      <td>NaN</td>\n      <td>5</td>\n      <td>0.0</td>\n      <td>0.0</td>\n      <td>0.0</td>\n    </tr>\n    <tr>\n      <th>4065</th>\n      <td>data/frames/frame_09_24605.jpg</td>\n      <td>418.920467</td>\n      <td>NaN</td>\n      <td>NaN</td>\n      <td>NaN</td>\n      <td>NaN</td>\n      <td>5</td>\n      <td>0.0</td>\n      <td>0.0</td>\n      <td>0.0</td>\n    </tr>\n    <tr>\n      <th>4066</th>\n      <td>data/frames/frame_09_24609.jpg</td>\n      <td>418.987111</td>\n      <td>NaN</td>\n      <td>NaN</td>\n      <td>NaN</td>\n      <td>NaN</td>\n      <td>5</td>\n      <td>0.0</td>\n      <td>0.0</td>\n      <td>0.0</td>\n    </tr>\n    <tr>\n      <th>4067</th>\n      <td>data/frames/frame_09_24631.jpg</td>\n      <td>419.353667</td>\n      <td>NaN</td>\n      <td>NaN</td>\n      <td>NaN</td>\n      <td>NaN</td>\n      <td>5</td>\n      <td>0.0</td>\n      <td>0.0</td>\n      <td>0.0</td>\n    </tr>\n    <tr>\n      <th>4068</th>\n      <td>data/frames/frame_09_24647.jpg</td>\n      <td>419.620244</td>\n      <td>NaN</td>\n      <td>NaN</td>\n      <td>NaN</td>\n      <td>NaN</td>\n      <td>5</td>\n      <td>0.0</td>\n      <td>0.0</td>\n      <td>0.0</td>\n    </tr>\n  </tbody>\n</table>\n<p>4069 rows × 10 columns</p>\n</div>"
     },
     "execution_count": 47,
     "metadata": {},
     "output_type": "execute_result"
    }
   ],
   "source": [
    "df = pd.read_excel('data/data.xlsx')\n",
    "df"
   ]
  },
  {
   "cell_type": "code",
   "execution_count": 52,
   "outputs": [
    {
     "name": "stderr",
     "output_type": "stream",
     "text": [
      "C:\\Users\\furka\\AppData\\Local\\Temp\\ipykernel_17400\\3020603812.py:2: SettingWithCopyWarning: \n",
      "A value is trying to be set on a copy of a slice from a DataFrame.\n",
      "Try using .loc[row_indexer,col_indexer] = value instead\n",
      "\n",
      "See the caveats in the documentation: https://pandas.pydata.org/pandas-docs/stable/user_guide/indexing.html#returning-a-view-versus-a-copy\n",
      "  clean_df[\"frame_file\"] = clean_df[\"frame_file\"].apply(lambda x: x.split('/')[-1])\n"
     ]
    },
    {
     "data": {
      "text/plain": "              frame_file   timestamp    in_race  position  lap  speed gear  \\\n6     frame_00_11880.jpg           396      0.0       5.0  1.0   37.0    1   \n7     frame_00_12120.jpg           404      0.0       5.0  1.0   34.0    1   \n8     frame_00_12360.jpg           412      0.0       5.0  1.0   36.0    1   \n9     frame_00_12600.jpg           420      0.0       5.0  1.0   37.0    1   \n10    frame_00_12840.jpg           428      0.0       5.0  1.0  116.0    4   \n...                  ...           ...      ...       ...  ...    ...  ...   \n3547  frame_09_08215.jpg    140.159122      NaN       NaN  NaN  119.0    5   \n3548  frame_09_08234.jpg    140.483289      NaN       NaN  NaN  120.0    5   \n3549  frame_09_08246.jpg    140.688033      NaN       NaN  NaN  121.0    5   \n3550  frame_09_08254.jpg    140.824522      NaN       NaN  NaN  121.0    5   \n3551  frame_09_08285.jpg    141.353422      NaN       NaN  NaN  122.0    5   \n\n     video  \n6       00  \n7       00  \n8       00  \n9       00  \n10      00  \n...    ...  \n3547    09  \n3548    09  \n3549    09  \n3550    09  \n3551    09  \n\n[1945 rows x 8 columns]",
      "text/html": "<div>\n<style scoped>\n    .dataframe tbody tr th:only-of-type {\n        vertical-align: middle;\n    }\n\n    .dataframe tbody tr th {\n        vertical-align: top;\n    }\n\n    .dataframe thead th {\n        text-align: right;\n    }\n</style>\n<table border=\"1\" class=\"dataframe\">\n  <thead>\n    <tr style=\"text-align: right;\">\n      <th></th>\n      <th>frame_file</th>\n      <th>timestamp</th>\n      <th>in_race</th>\n      <th>position</th>\n      <th>lap</th>\n      <th>speed</th>\n      <th>gear</th>\n      <th>video</th>\n    </tr>\n  </thead>\n  <tbody>\n    <tr>\n      <th>6</th>\n      <td>frame_00_11880.jpg</td>\n      <td>396</td>\n      <td>0.0</td>\n      <td>5.0</td>\n      <td>1.0</td>\n      <td>37.0</td>\n      <td>1</td>\n      <td>00</td>\n    </tr>\n    <tr>\n      <th>7</th>\n      <td>frame_00_12120.jpg</td>\n      <td>404</td>\n      <td>0.0</td>\n      <td>5.0</td>\n      <td>1.0</td>\n      <td>34.0</td>\n      <td>1</td>\n      <td>00</td>\n    </tr>\n    <tr>\n      <th>8</th>\n      <td>frame_00_12360.jpg</td>\n      <td>412</td>\n      <td>0.0</td>\n      <td>5.0</td>\n      <td>1.0</td>\n      <td>36.0</td>\n      <td>1</td>\n      <td>00</td>\n    </tr>\n    <tr>\n      <th>9</th>\n      <td>frame_00_12600.jpg</td>\n      <td>420</td>\n      <td>0.0</td>\n      <td>5.0</td>\n      <td>1.0</td>\n      <td>37.0</td>\n      <td>1</td>\n      <td>00</td>\n    </tr>\n    <tr>\n      <th>10</th>\n      <td>frame_00_12840.jpg</td>\n      <td>428</td>\n      <td>0.0</td>\n      <td>5.0</td>\n      <td>1.0</td>\n      <td>116.0</td>\n      <td>4</td>\n      <td>00</td>\n    </tr>\n    <tr>\n      <th>...</th>\n      <td>...</td>\n      <td>...</td>\n      <td>...</td>\n      <td>...</td>\n      <td>...</td>\n      <td>...</td>\n      <td>...</td>\n      <td>...</td>\n    </tr>\n    <tr>\n      <th>3547</th>\n      <td>frame_09_08215.jpg</td>\n      <td>140.159122</td>\n      <td>NaN</td>\n      <td>NaN</td>\n      <td>NaN</td>\n      <td>119.0</td>\n      <td>5</td>\n      <td>09</td>\n    </tr>\n    <tr>\n      <th>3548</th>\n      <td>frame_09_08234.jpg</td>\n      <td>140.483289</td>\n      <td>NaN</td>\n      <td>NaN</td>\n      <td>NaN</td>\n      <td>120.0</td>\n      <td>5</td>\n      <td>09</td>\n    </tr>\n    <tr>\n      <th>3549</th>\n      <td>frame_09_08246.jpg</td>\n      <td>140.688033</td>\n      <td>NaN</td>\n      <td>NaN</td>\n      <td>NaN</td>\n      <td>121.0</td>\n      <td>5</td>\n      <td>09</td>\n    </tr>\n    <tr>\n      <th>3550</th>\n      <td>frame_09_08254.jpg</td>\n      <td>140.824522</td>\n      <td>NaN</td>\n      <td>NaN</td>\n      <td>NaN</td>\n      <td>121.0</td>\n      <td>5</td>\n      <td>09</td>\n    </tr>\n    <tr>\n      <th>3551</th>\n      <td>frame_09_08285.jpg</td>\n      <td>141.353422</td>\n      <td>NaN</td>\n      <td>NaN</td>\n      <td>NaN</td>\n      <td>122.0</td>\n      <td>5</td>\n      <td>09</td>\n    </tr>\n  </tbody>\n</table>\n<p>1945 rows × 8 columns</p>\n</div>"
     },
     "execution_count": 52,
     "metadata": {},
     "output_type": "execute_result"
    }
   ],
   "source": [
    "clean_df = df[df[\"speed\"].notna()]\n",
    "clean_df[\"frame_file\"] = clean_df[\"frame_file\"].apply(lambda x: x.split('/')[-1])\n",
    "clean_df = clean_df.drop(columns=[\"acceleration\", \"acceleration.1\", \"jerk\"])\n",
    "clean_df[\"video\"] = clean_df[\"frame_file\"].apply(lambda x: x[6:8])\n",
    "clean_df"
   ],
   "metadata": {
    "collapsed": false,
    "ExecuteTime": {
     "end_time": "2023-06-30T00:54:41.772908100Z",
     "start_time": "2023-06-30T00:54:41.678402200Z"
    }
   }
  },
  {
   "cell_type": "code",
   "execution_count": 54,
   "outputs": [
    {
     "name": "stdout",
     "output_type": "stream",
     "text": [
      "Splits: 5 2 2\n"
     ]
    },
    {
     "data": {
      "text/plain": "  video  split\n4    04  valid\n0    00  valid\n6    05   test\n3    03   test\n1    01  train\n5    08  train\n8    09  train\n7    07  train\n2    02  train",
      "text/html": "<div>\n<style scoped>\n    .dataframe tbody tr th:only-of-type {\n        vertical-align: middle;\n    }\n\n    .dataframe tbody tr th {\n        vertical-align: top;\n    }\n\n    .dataframe thead th {\n        text-align: right;\n    }\n</style>\n<table border=\"1\" class=\"dataframe\">\n  <thead>\n    <tr style=\"text-align: right;\">\n      <th></th>\n      <th>video</th>\n      <th>split</th>\n    </tr>\n  </thead>\n  <tbody>\n    <tr>\n      <th>4</th>\n      <td>04</td>\n      <td>valid</td>\n    </tr>\n    <tr>\n      <th>0</th>\n      <td>00</td>\n      <td>valid</td>\n    </tr>\n    <tr>\n      <th>6</th>\n      <td>05</td>\n      <td>test</td>\n    </tr>\n    <tr>\n      <th>3</th>\n      <td>03</td>\n      <td>test</td>\n    </tr>\n    <tr>\n      <th>1</th>\n      <td>01</td>\n      <td>train</td>\n    </tr>\n    <tr>\n      <th>5</th>\n      <td>08</td>\n      <td>train</td>\n    </tr>\n    <tr>\n      <th>8</th>\n      <td>09</td>\n      <td>train</td>\n    </tr>\n    <tr>\n      <th>7</th>\n      <td>07</td>\n      <td>train</td>\n    </tr>\n    <tr>\n      <th>2</th>\n      <td>02</td>\n      <td>train</td>\n    </tr>\n  </tbody>\n</table>\n</div>"
     },
     "execution_count": 54,
     "metadata": {},
     "output_type": "execute_result"
    }
   ],
   "source": [
    "videos = pd.DataFrame(clean_df[\"video\"].unique(), columns=['video']).sample(frac=1)\n",
    "valid_size = max(2, len(videos) // 5)\n",
    "test_size = max(2, len(videos) // 5)\n",
    "print('Splits:', len(videos) - valid_size - test_size, valid_size, test_size)\n",
    "videos['split'] = 'train'\n",
    "videos['split'][:valid_size] = 'valid'\n",
    "videos['split'][valid_size:valid_size + test_size] = 'test'\n",
    "videos"
   ],
   "metadata": {
    "collapsed": false,
    "ExecuteTime": {
     "end_time": "2023-06-30T00:55:02.322797400Z",
     "start_time": "2023-06-30T00:55:02.275428600Z"
    }
   }
  },
  {
   "cell_type": "code",
   "execution_count": 55,
   "outputs": [
    {
     "data": {
      "text/plain": "              frame_file   timestamp    in_race  position  lap  speed gear  \\\n0     frame_00_11880.jpg           396      0.0       5.0  1.0   37.0    1   \n1     frame_00_12120.jpg           404      0.0       5.0  1.0   34.0    1   \n2     frame_00_12360.jpg           412      0.0       5.0  1.0   36.0    1   \n3     frame_00_12600.jpg           420      0.0       5.0  1.0   37.0    1   \n4     frame_00_12840.jpg           428      0.0       5.0  1.0  116.0    4   \n...                  ...           ...      ...       ...  ...    ...  ...   \n1940  frame_09_08215.jpg    140.159122      NaN       NaN  NaN  119.0    5   \n1941  frame_09_08234.jpg    140.483289      NaN       NaN  NaN  120.0    5   \n1942  frame_09_08246.jpg    140.688033      NaN       NaN  NaN  121.0    5   \n1943  frame_09_08254.jpg    140.824522      NaN       NaN  NaN  121.0    5   \n1944  frame_09_08285.jpg    141.353422      NaN       NaN  NaN  122.0    5   \n\n     video  split  \n0       00  valid  \n1       00  valid  \n2       00  valid  \n3       00  valid  \n4       00  valid  \n...    ...    ...  \n1940    09  train  \n1941    09  train  \n1942    09  train  \n1943    09  train  \n1944    09  train  \n\n[1945 rows x 9 columns]",
      "text/html": "<div>\n<style scoped>\n    .dataframe tbody tr th:only-of-type {\n        vertical-align: middle;\n    }\n\n    .dataframe tbody tr th {\n        vertical-align: top;\n    }\n\n    .dataframe thead th {\n        text-align: right;\n    }\n</style>\n<table border=\"1\" class=\"dataframe\">\n  <thead>\n    <tr style=\"text-align: right;\">\n      <th></th>\n      <th>frame_file</th>\n      <th>timestamp</th>\n      <th>in_race</th>\n      <th>position</th>\n      <th>lap</th>\n      <th>speed</th>\n      <th>gear</th>\n      <th>video</th>\n      <th>split</th>\n    </tr>\n  </thead>\n  <tbody>\n    <tr>\n      <th>0</th>\n      <td>frame_00_11880.jpg</td>\n      <td>396</td>\n      <td>0.0</td>\n      <td>5.0</td>\n      <td>1.0</td>\n      <td>37.0</td>\n      <td>1</td>\n      <td>00</td>\n      <td>valid</td>\n    </tr>\n    <tr>\n      <th>1</th>\n      <td>frame_00_12120.jpg</td>\n      <td>404</td>\n      <td>0.0</td>\n      <td>5.0</td>\n      <td>1.0</td>\n      <td>34.0</td>\n      <td>1</td>\n      <td>00</td>\n      <td>valid</td>\n    </tr>\n    <tr>\n      <th>2</th>\n      <td>frame_00_12360.jpg</td>\n      <td>412</td>\n      <td>0.0</td>\n      <td>5.0</td>\n      <td>1.0</td>\n      <td>36.0</td>\n      <td>1</td>\n      <td>00</td>\n      <td>valid</td>\n    </tr>\n    <tr>\n      <th>3</th>\n      <td>frame_00_12600.jpg</td>\n      <td>420</td>\n      <td>0.0</td>\n      <td>5.0</td>\n      <td>1.0</td>\n      <td>37.0</td>\n      <td>1</td>\n      <td>00</td>\n      <td>valid</td>\n    </tr>\n    <tr>\n      <th>4</th>\n      <td>frame_00_12840.jpg</td>\n      <td>428</td>\n      <td>0.0</td>\n      <td>5.0</td>\n      <td>1.0</td>\n      <td>116.0</td>\n      <td>4</td>\n      <td>00</td>\n      <td>valid</td>\n    </tr>\n    <tr>\n      <th>...</th>\n      <td>...</td>\n      <td>...</td>\n      <td>...</td>\n      <td>...</td>\n      <td>...</td>\n      <td>...</td>\n      <td>...</td>\n      <td>...</td>\n      <td>...</td>\n    </tr>\n    <tr>\n      <th>1940</th>\n      <td>frame_09_08215.jpg</td>\n      <td>140.159122</td>\n      <td>NaN</td>\n      <td>NaN</td>\n      <td>NaN</td>\n      <td>119.0</td>\n      <td>5</td>\n      <td>09</td>\n      <td>train</td>\n    </tr>\n    <tr>\n      <th>1941</th>\n      <td>frame_09_08234.jpg</td>\n      <td>140.483289</td>\n      <td>NaN</td>\n      <td>NaN</td>\n      <td>NaN</td>\n      <td>120.0</td>\n      <td>5</td>\n      <td>09</td>\n      <td>train</td>\n    </tr>\n    <tr>\n      <th>1942</th>\n      <td>frame_09_08246.jpg</td>\n      <td>140.688033</td>\n      <td>NaN</td>\n      <td>NaN</td>\n      <td>NaN</td>\n      <td>121.0</td>\n      <td>5</td>\n      <td>09</td>\n      <td>train</td>\n    </tr>\n    <tr>\n      <th>1943</th>\n      <td>frame_09_08254.jpg</td>\n      <td>140.824522</td>\n      <td>NaN</td>\n      <td>NaN</td>\n      <td>NaN</td>\n      <td>121.0</td>\n      <td>5</td>\n      <td>09</td>\n      <td>train</td>\n    </tr>\n    <tr>\n      <th>1944</th>\n      <td>frame_09_08285.jpg</td>\n      <td>141.353422</td>\n      <td>NaN</td>\n      <td>NaN</td>\n      <td>NaN</td>\n      <td>122.0</td>\n      <td>5</td>\n      <td>09</td>\n      <td>train</td>\n    </tr>\n  </tbody>\n</table>\n<p>1945 rows × 9 columns</p>\n</div>"
     },
     "execution_count": 55,
     "metadata": {},
     "output_type": "execute_result"
    }
   ],
   "source": [
    "final_df = pd.merge(clean_df, videos, on=\"video\", how=\"left\")\n",
    "final_df"
   ],
   "metadata": {
    "collapsed": false,
    "ExecuteTime": {
     "end_time": "2023-06-30T00:55:13.397446700Z",
     "start_time": "2023-06-30T00:55:13.362621200Z"
    }
   }
  },
  {
   "cell_type": "code",
   "execution_count": 56,
   "metadata": {
    "ExecuteTime": {
     "end_time": "2023-06-30T00:55:19.929849900Z",
     "start_time": "2023-06-30T00:55:19.835312100Z"
    }
   },
   "outputs": [],
   "source": [
    "final_df.to_csv(\"data/dataset_v2.csv\")"
   ]
  },
  {
   "cell_type": "code",
   "execution_count": 43,
   "metadata": {
    "ExecuteTime": {
     "end_time": "2023-06-29T11:04:28.755996700Z",
     "start_time": "2023-06-29T11:04:28.706410Z"
    }
   },
   "outputs": [
    {
     "data": {
      "text/plain": "split\ntrain    700\nvalid    598\ntest     363\nName: count, dtype: int64"
     },
     "execution_count": 43,
     "metadata": {},
     "output_type": "execute_result"
    }
   ],
   "source": [
    "final_df.value_counts('split')"
   ]
  }
 ],
 "metadata": {
  "kernelspec": {
   "display_name": "env",
   "language": "python",
   "name": "python3"
  },
  "language_info": {
   "codemirror_mode": {
    "name": "ipython",
    "version": 3
   },
   "file_extension": ".py",
   "mimetype": "text/x-python",
   "name": "python",
   "nbconvert_exporter": "python",
   "pygments_lexer": "ipython3",
   "version": "3.9.16"
  },
  "orig_nbformat": 4
 },
 "nbformat": 4,
 "nbformat_minor": 2
}
